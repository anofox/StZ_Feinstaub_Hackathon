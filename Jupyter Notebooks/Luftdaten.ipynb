{
 "cells": [
  {
   "cell_type": "code",
   "execution_count": 1,
   "metadata": {
    "collapsed": true,
    "deletable": true,
    "editable": true
   },
   "outputs": [],
   "source": [
    "import os \n",
    "os.environ['JAVA_HOME'] = '/usr/lib/jvm/java-1.8.0-openjdk-amd64'"
   ]
  },
  {
   "cell_type": "code",
   "execution_count": 1,
   "metadata": {
    "collapsed": true,
    "deletable": true,
    "editable": true
   },
   "outputs": [],
   "source": [
    "%matplotlib inline\n",
    "\n",
    "import findspark\n",
    "findspark.init('D:/spark-2.2.0-bin-hadoop2.7')"
   ]
  },
  {
   "cell_type": "code",
   "execution_count": 2,
   "metadata": {
    "collapsed": true,
    "deletable": true,
    "editable": true
   },
   "outputs": [],
   "source": [
    "from pyspark.sql import SparkSession\n",
    "from pyspark.sql.functions import *\n",
    "from pyspark.sql.types import *"
   ]
  },
  {
   "cell_type": "code",
   "execution_count": 3,
   "metadata": {
    "collapsed": false,
    "deletable": true,
    "editable": true
   },
   "outputs": [],
   "source": [
    "sess = SparkSession.builder \\\n",
    "                    .appName(\"foo\") \\\n",
    "                    .master(\"local[*]\") \\\n",
    "                    .config(\"spark.driver.memory\", \"16g\") \\\n",
    "                    .config(\"spark.sql.shuffle.partitions\", 200) \\\n",
    "                    .getOrCreate()"
   ]
  },
  {
   "cell_type": "code",
   "execution_count": 4,
   "metadata": {
    "collapsed": false,
    "deletable": true,
    "editable": true
   },
   "outputs": [],
   "source": [
    "df = sess.read.parquet(\"./luftdaten.info.20180103.parquet/\")"
   ]
  },
  {
   "cell_type": "code",
   "execution_count": 5,
   "metadata": {
    "collapsed": false,
    "deletable": true,
    "editable": true
   },
   "outputs": [
    {
     "data": {
      "text/plain": [
       "646298786"
      ]
     },
     "execution_count": 5,
     "metadata": {},
     "output_type": "execute_result"
    }
   ],
   "source": [
    "df.count()"
   ]
  },
  {
   "cell_type": "code",
   "execution_count": 6,
   "metadata": {
    "collapsed": false,
    "deletable": true,
    "editable": true
   },
   "outputs": [
    {
     "data": {
      "text/plain": [
       "StructType(List(StructField(sensor_id,IntegerType,true),StructField(sensor_type,StringType,true),StructField(location,IntegerType,true),StructField(lat,DoubleType,true),StructField(lon,DoubleType,true),StructField(timestamp,TimestampType,true),StructField(P1,StringType,true),StructField(durP1,IntegerType,true),StructField(ratioP1,DoubleType,true),StructField(P2,StringType,true),StructField(durP2,IntegerType,true),StructField(ratioP2,DoubleType,true),StructField(temperature,DoubleType,true),StructField(humidity,DoubleType,true),StructField(pressure,DoubleType,true),StructField(altitude,DoubleType,true),StructField(pressure_sealevel,DoubleType,true)))"
      ]
     },
     "execution_count": 6,
     "metadata": {},
     "output_type": "execute_result"
    }
   ],
   "source": [
    "df.schema"
   ]
  },
  {
   "cell_type": "markdown",
   "metadata": {
    "deletable": true,
    "editable": true
   },
   "source": [
    "## Extract Meta Data\n",
    "\n",
    "Get all sensors by sensor_id and the geolocation. Delete afterwards that information from the dataframe (except sensor_id)."
   ]
  },
  {
   "cell_type": "code",
   "execution_count": 11,
   "metadata": {
    "collapsed": false,
    "deletable": true,
    "editable": true
   },
   "outputs": [
    {
     "data": {
      "text/plain": [
       "7607"
      ]
     },
     "execution_count": 11,
     "metadata": {},
     "output_type": "execute_result"
    }
   ],
   "source": [
    "sensorsOverall = df.select('sensor_id', 'sensor_type', 'location', 'lon', 'lat') \\\n",
    "    .distinct() \\\n",
    "    .persist()\n",
    "sensorsOverall.count()"
   ]
  },
  {
   "cell_type": "markdown",
   "metadata": {
    "deletable": true,
    "editable": true
   },
   "source": [
    "Are sendor_ids unique?"
   ]
  },
  {
   "cell_type": "code",
   "execution_count": 12,
   "metadata": {
    "collapsed": false,
    "deletable": true,
    "editable": true
   },
   "outputs": [
    {
     "name": "stdout",
     "output_type": "stream",
     "text": [
      "+---------+-----+\n",
      "|sensor_id|count|\n",
      "+---------+-----+\n",
      "|     3160|    5|\n",
      "|     3159|    5|\n",
      "|      160|    4|\n",
      "|      292|    4|\n",
      "|     4703|    4|\n",
      "|      321|    4|\n",
      "|      291|    4|\n",
      "|     4702|    4|\n",
      "|     6705|    3|\n",
      "|      322|    3|\n",
      "|     5440|    3|\n",
      "|      230|    3|\n",
      "|     2363|    3|\n",
      "|     3175|    3|\n",
      "|       48|    3|\n",
      "|      133|    3|\n",
      "|     6706|    3|\n",
      "|     1512|    3|\n",
      "|      570|    3|\n",
      "|      148|    3|\n",
      "+---------+-----+\n",
      "only showing top 20 rows\n",
      "\n"
     ]
    }
   ],
   "source": [
    "sensorsOverall.groupBy(['sensor_id']) \\\n",
    "    .count() \\\n",
    "    .sort(col(\"count\").desc()) \\\n",
    "    .show()"
   ]
  },
  {
   "cell_type": "code",
   "execution_count": 13,
   "metadata": {
    "collapsed": false,
    "deletable": true,
    "editable": true
   },
   "outputs": [
    {
     "data": {
      "text/plain": [
       "421"
      ]
     },
     "execution_count": 13,
     "metadata": {},
     "output_type": "execute_result"
    }
   ],
   "source": [
    "nonUniqueSensors = sensorsOverall.groupBy(['sensor_id']) \\\n",
    "    .count() \\\n",
    "    .sort(col(\"count\").desc()) \\\n",
    "    .filter(col('count') > 1)\n",
    "nonUniqueSensors.count()"
   ]
  },
  {
   "cell_type": "code",
   "execution_count": 35,
   "metadata": {
    "collapsed": false,
    "deletable": true,
    "editable": true
   },
   "outputs": [
    {
     "name": "stdout",
     "output_type": "stream",
     "text": [
      "+---------+-----------+--------+-----+------+\n",
      "|sensor_id|sensor_type|location|  lon|   lat|\n",
      "+---------+-----------+--------+-----+------+\n",
      "|     3160|      DHT22|    1591| null|  null|\n",
      "|     3160|      DHT22|    1591|7.146|51.486|\n",
      "|     3160|      DHT22|    1591|6.998|51.568|\n",
      "|     3160|      DHT22|    1591|7.109|51.578|\n",
      "|     3160|      DHT22|    1591|7.005|51.478|\n",
      "+---------+-----------+--------+-----+------+\n",
      "\n"
     ]
    }
   ],
   "source": [
    "sensorsOverall.filter(col('sensor_id') == 3160).show()"
   ]
  },
  {
   "cell_type": "markdown",
   "metadata": {
    "deletable": true,
    "editable": true
   },
   "source": [
    "This sensor has different geocoordinates, but the same location id. The uniqueness seems to be identified by the location. "
   ]
  },
  {
   "cell_type": "code",
   "execution_count": 36,
   "metadata": {
    "collapsed": true,
    "deletable": true,
    "editable": true
   },
   "outputs": [],
   "source": [
    "sensorExample = df.filter(col('sensor_id') == 3160) \\\n",
    "    .sort(col('timestamp').asc()) \\\n",
    "    .persist()"
   ]
  },
  {
   "cell_type": "code",
   "execution_count": 37,
   "metadata": {
    "collapsed": false,
    "deletable": true,
    "editable": true
   },
   "outputs": [
    {
     "name": "stdout",
     "output_type": "stream",
     "text": [
      "+---------+-----------+-----+------+-------------------+----+\n",
      "|sensor_id|sensor_type|  lon|   lat|          timestamp|rank|\n",
      "+---------+-----------+-----+------+-------------------+----+\n",
      "|     3160|      DHT22|7.005|51.478|2017-06-01 22:53:07|   1|\n",
      "|     3160|      DHT22|7.005|51.478|2017-06-01 22:55:35|   2|\n",
      "|     3160|      DHT22|7.146|51.486|2017-11-04 00:02:13|   1|\n",
      "|     3160|      DHT22|7.146|51.486|2017-11-04 00:04:39|   2|\n",
      "|     3160|      DHT22|7.146|51.486|2017-11-04 00:07:06|   3|\n",
      "|     3160|      DHT22|7.146|51.486|2017-11-04 00:09:33|   4|\n",
      "|     3160|      DHT22|7.146|51.486|2017-11-04 00:12:00|   5|\n",
      "|     3160|      DHT22|6.998|51.568|2017-11-03 00:34:25|   1|\n",
      "|     3160|      DHT22|6.998|51.568|2017-11-03 00:36:53|   2|\n",
      "|     3160|      DHT22|6.998|51.568|2017-11-03 00:39:21|   3|\n",
      "|     3160|      DHT22|6.998|51.568|2017-11-03 00:43:38|   4|\n",
      "|     3160|      DHT22|6.998|51.568|2017-11-03 00:46:04|   5|\n",
      "|     3160|      DHT22| null|  null|2017-10-09 21:20:25|   1|\n",
      "|     3160|      DHT22|7.109|51.578|2017-09-07 10:48:24|   1|\n",
      "|     3160|      DHT22|7.109|51.578|2017-09-07 10:50:51|   2|\n",
      "|     3160|      DHT22|7.109|51.578|2017-09-07 10:53:21|   3|\n",
      "|     3160|      DHT22|7.109|51.578|2017-09-07 10:55:59|   4|\n",
      "|     3160|      DHT22|7.109|51.578|2017-09-07 11:01:21|   5|\n",
      "+---------+-----------+-----+------+-------------------+----+\n",
      "\n"
     ]
    }
   ],
   "source": [
    "from pyspark.sql.window import Window\n",
    "window = Window.partitionBy(sensorExample['lon']).orderBy(col('timestamp'))\n",
    "sensorExample.select('*', rank().over(window).alias('rank')) \\\n",
    "    .filter(col('rank') <= 5) \\\n",
    "    .select(['sensor_id', 'sensor_type', 'lon', 'lat', 'timestamp', 'rank']) \\\n",
    "    .show() "
   ]
  },
  {
   "cell_type": "code",
   "execution_count": 38,
   "metadata": {
    "collapsed": false,
    "deletable": true,
    "editable": true
   },
   "outputs": [
    {
     "name": "stdout",
     "output_type": "stream",
     "text": [
      "+-----+-----+\n",
      "|  lon|count|\n",
      "+-----+-----+\n",
      "|7.005|    2|\n",
      "|7.146|29574|\n",
      "|6.998|  574|\n",
      "| null|    1|\n",
      "|7.109|10886|\n",
      "+-----+-----+\n",
      "\n"
     ]
    }
   ],
   "source": [
    "sensorExample.groupBy('lon').count().show()"
   ]
  },
  {
   "cell_type": "code",
   "execution_count": 39,
   "metadata": {
    "collapsed": false,
    "deletable": true,
    "editable": true
   },
   "outputs": [
    {
     "name": "stdout",
     "output_type": "stream",
     "text": [
      "+-----+-------------------+-------------------+-----+\n",
      "|  lon|              first|               last|    n|\n",
      "+-----+-------------------+-------------------+-----+\n",
      "|7.005|2017-06-01 22:53:07|2017-06-01 22:55:35|    2|\n",
      "|7.109|2017-09-07 10:48:24|2017-10-03 10:36:42|10886|\n",
      "| null|2017-10-09 21:20:25|2017-10-09 21:20:25|    1|\n",
      "|6.998|2017-11-03 00:34:25|2017-11-03 23:59:46|  574|\n",
      "|7.146|2017-11-04 00:02:13|2018-01-01 23:57:49|29574|\n",
      "+-----+-------------------+-------------------+-----+\n",
      "\n"
     ]
    },
    {
     "data": {
      "text/plain": [
       "DataFrame[sensor_id: int, sensor_type: string, location: int, lat: double, lon: double, timestamp: timestamp, P1: string, durP1: int, ratioP1: double, P2: string, durP2: int, ratioP2: double, temperature: double, humidity: double, pressure: double, altitude: double, pressure_sealevel: double]"
      ]
     },
     "execution_count": 39,
     "metadata": {},
     "output_type": "execute_result"
    }
   ],
   "source": [
    "sensorExample.groupBy('lon') \\\n",
    "    .agg(min('timestamp').alias('first'), max('timestamp').alias('last'), count(lit(1)).alias('n')) \\\n",
    "    .sort(col('first').asc()) \\\n",
    "    .show()\n",
    "sensorExample.unpersist()"
   ]
  },
  {
   "cell_type": "markdown",
   "metadata": {
    "deletable": true,
    "editable": true
   },
   "source": [
    "It seems to be that: this measurement intervals are distinct and we may use the latest lon and lat of a sensor. Now, let us check this property for each sensor with non-unique lon and lat data."
   ]
  },
  {
   "cell_type": "code",
   "execution_count": null,
   "metadata": {
    "collapsed": true,
    "deletable": true,
    "editable": true
   },
   "outputs": [],
   "source": [
    "nonUniqueSensors = sensorsOverall.groupBy(['sensor_id']) \\\n",
    "    .count() \\\n",
    "    .sort(col('count').desc()) \\\n",
    "    .filter(col('count') > 1).toPandas()\n",
    "nonUniqueSensors = list(nonUniqueSensors['sensor_id'])"
   ]
  },
  {
   "cell_type": "code",
   "execution_count": null,
   "metadata": {
    "collapsed": true,
    "deletable": true,
    "editable": true
   },
   "outputs": [],
   "source": [
    "def isInList(sensorList):\n",
    "    return udf(lambda sensor_id: sensor_id in sensorList, BooleanType())\n",
    "\n",
    "dfCheck = df.where(isInList(nonUniqueSensors)('sensor_id'))"
   ]
  },
  {
   "cell_type": "code",
   "execution_count": null,
   "metadata": {
    "collapsed": true,
    "deletable": true,
    "editable": true
   },
   "outputs": [],
   "source": [
    "# too slow\n",
    "# dfCheck = dfCheck.groupBy(['sensor_id', 'lon']) \\\n",
    "#    .agg(min('timestamp').alias('first'), max('timestamp').alias('last'), count(lit(1)).alias('n')) \\\n",
    "#    .sort(col('sensor_id').asc(), col('first').asc()) \\\n",
    "#    .show()"
   ]
  },
  {
   "cell_type": "markdown",
   "metadata": {
    "deletable": true,
    "editable": true
   },
   "source": [
    "# Subset to Stuttgart Data"
   ]
  },
  {
   "cell_type": "code",
   "execution_count": 7,
   "metadata": {
    "collapsed": true,
    "deletable": true,
    "editable": true
   },
   "outputs": [],
   "source": [
    "dfStgt = df \\\n",
    "    .filter(col('lon') > 9.0) \\\n",
    "    .filter(col('lon') < 9.4) \\\n",
    "    .filter(col('lat') > 48.6) \\\n",
    "    .filter(col('lat') < 49.0) \\\n",
    "    .persist()"
   ]
  },
  {
   "cell_type": "code",
   "execution_count": 8,
   "metadata": {
    "collapsed": false,
    "deletable": true,
    "editable": true
   },
   "outputs": [
    {
     "data": {
      "text/plain": [
       "131215013"
      ]
     },
     "execution_count": 8,
     "metadata": {},
     "output_type": "execute_result"
    }
   ],
   "source": [
    "dfStgt.count()"
   ]
  },
  {
   "cell_type": "markdown",
   "metadata": {
    "deletable": true,
    "editable": true
   },
   "source": [
    "## Extract Meta Data"
   ]
  },
  {
   "cell_type": "code",
   "execution_count": 9,
   "metadata": {
    "collapsed": false,
    "deletable": true,
    "editable": true
   },
   "outputs": [
    {
     "name": "stdout",
     "output_type": "stream",
     "text": [
      "+---------+-----------+--------+-----+------+\n",
      "|sensor_id|sensor_type|location|  lon|   lat|\n",
      "+---------+-----------+--------+-----+------+\n",
      "|     8238|     BMP180|    4159|9.188|48.901|\n",
      "|     8227|     BMP180|    4154|9.012|48.809|\n",
      "|     8226|      DHT22|    4154|9.012|48.809|\n",
      "|     8225|     SDS011|    4154|9.012|48.809|\n",
      "|     8184|      DHT22|    4133|9.087|48.752|\n",
      "|     8183|     SDS011|    4133|9.087|48.752|\n",
      "|     8182|      DHT22|    4132|9.152|48.768|\n",
      "|     8181|     SDS011|    4132|9.152|48.768|\n",
      "|     8178|      DHT22|    4130|9.133| 48.74|\n",
      "|     8177|     SDS011|    4130|9.133| 48.74|\n",
      "|     8175|     SDS011|    4129|  9.1|48.718|\n",
      "|     8168|      DHT22|    4125|9.186|48.885|\n",
      "|     8167|     SDS011|    4125|9.186|48.885|\n",
      "|     8150|      DHT22|    4116|9.273|48.784|\n",
      "|     8149|     SDS011|    4116|9.273|48.784|\n",
      "|     8105|      DHT22|    4095|9.105|48.943|\n",
      "|     8104|     SDS011|    4095|9.105|48.943|\n",
      "|     7940|     BME280|    4015|9.227|48.887|\n",
      "|     7939|     SDS011|    4015|9.227|48.887|\n",
      "|     7934|      DHT22|    4012|9.193|48.897|\n",
      "+---------+-----------+--------+-----+------+\n",
      "only showing top 20 rows\n",
      "\n"
     ]
    }
   ],
   "source": [
    "sensors = dfStgt.select('sensor_id', 'sensor_type', 'location', 'lon', 'lat') \\\n",
    "    .distinct() \\\n",
    "    .sort(col('sensor_id').desc()) \\\n",
    "    .persist()\n",
    "sensors.show()"
   ]
  },
  {
   "cell_type": "code",
   "execution_count": 10,
   "metadata": {
    "collapsed": false,
    "deletable": true,
    "editable": true
   },
   "outputs": [
    {
     "data": {
      "text/plain": [
       "65"
      ]
     },
     "execution_count": 10,
     "metadata": {},
     "output_type": "execute_result"
    }
   ],
   "source": [
    "# uniqueness of sensors\n",
    "sensors.groupBy(['sensor_id']) \\\n",
    "    .count() \\\n",
    "    .sort(col(\"count\").desc()) \\\n",
    "    .filter(col('count') > 1) \\\n",
    "    .count()"
   ]
  },
  {
   "cell_type": "code",
   "execution_count": 11,
   "metadata": {
    "collapsed": false,
    "deletable": true,
    "editable": true
   },
   "outputs": [
    {
     "name": "stdout",
     "output_type": "stream",
     "text": [
      "+--------+-----+\n",
      "|location|count|\n",
      "+--------+-----+\n",
      "|      19|    9|\n",
      "|      39|    8|\n",
      "|     168|    6|\n",
      "|      64|    6|\n",
      "|     122|    5|\n",
      "|     169|    4|\n",
      "|      40|    4|\n",
      "|     301|    4|\n",
      "|     119|    4|\n",
      "|      42|    4|\n",
      "|     118|    4|\n",
      "+--------+-----+\n",
      "\n"
     ]
    }
   ],
   "source": [
    "sensors.select('sensor_id', 'sensor_type', 'location') \\\n",
    "    .distinct() \\\n",
    "    .groupBy('location') \\\n",
    "    .count() \\\n",
    "    .filter(col('count') > 3) \\\n",
    "    .sort(col('count').desc()) \\\n",
    "    .show()"
   ]
  },
  {
   "cell_type": "code",
   "execution_count": null,
   "metadata": {
    "collapsed": false,
    "deletable": true,
    "editable": true
   },
   "outputs": [],
   "source": [
    "sensors.filter(col('location') == 19).show()"
   ]
  },
  {
   "cell_type": "code",
   "execution_count": null,
   "metadata": {
    "collapsed": false,
    "deletable": true,
    "editable": true
   },
   "outputs": [],
   "source": [
    "dfStgt.filter(col('location') == 19) \\\n",
    "    .groupBy(['sensor_id', 'sensor_type']) \\\n",
    "    .agg(min('timestamp').alias('first'), max('timestamp').alias('last'), count(lit(1)).alias('n')) \\\n",
    "    .sort(col('first').asc()) \\\n",
    "    .show()"
   ]
  },
  {
   "cell_type": "code",
   "execution_count": null,
   "metadata": {
    "collapsed": false,
    "deletable": true,
    "editable": true
   },
   "outputs": [],
   "source": [
    "dfSensorSummary = dfStgt.groupBy(['location', 'sensor_id', 'sensor_type']) \\\n",
    "    .agg(min('timestamp').alias('first'), max('timestamp').alias('last'), count(lit(1)).alias('n')) \\\n",
    "    .sort(col('location').asc(), col('first').asc()) \n",
    "dfSensorSummary.show()"
   ]
  },
  {
   "cell_type": "code",
   "execution_count": null,
   "metadata": {
    "collapsed": false,
    "deletable": true,
    "editable": true
   },
   "outputs": [],
   "source": [
    "dfStgt.select('sensor_type').distinct().show()"
   ]
  },
  {
   "cell_type": "markdown",
   "metadata": {
    "deletable": true,
    "editable": true
   },
   "source": [
    "We have:\n",
    "\n",
    "- several sensors ath the same location\n",
    "- several sensors at the same location are from different type\n",
    "    - [DHT22](http://de.aliexpress.com/wholesale?site=deu&SortType=price_asc&shipCountry=de&SearchText=dht22&CatId=523): temperature and humiditiy sensor\n",
    "    - [SDS011](http://de.aliexpress.com/wholesale?site=deu&SortType=price_asc&shipCountry=de&SearchText=sds011&CatId=523): dust sensor\n",
    "    - [PPD42NS](https://www.seeedstudio.com/Grove-Dust-Sensor%EF%BC%88PPD42NS%EF%BC%89-p-1050.html): alternative dust sensor\n",
    "    - [BMP180](https://www.bosch-sensortec.com/bst/products/all_products/bmp180): digital barometric pressure sensor\n",
    "    - [BME280](https://www.bosch-sensortec.com/bst/products/all_products/bme280): barometric pressure and humidity sensor\n",
    "\n",
    "This setting is described on [http://luftdaten.info/feinstaubsensor-bauen/](http://luftdaten.info/feinstaubsensor-bauen/), except the Bosch sensors. Let us count the sensors:"
   ]
  },
  {
   "cell_type": "code",
   "execution_count": null,
   "metadata": {
    "collapsed": false,
    "deletable": true,
    "editable": true
   },
   "outputs": [],
   "source": [
    "dfStgt.select(['sensor_type', 'location']) \\\n",
    "    .distinct() \\\n",
    "    .groupBy('sensor_type') \\\n",
    "    .count() \\\n",
    "    .sort(col('count').desc()) \\\n",
    "    .show()"
   ]
  },
  {
   "cell_type": "code",
   "execution_count": null,
   "metadata": {
    "collapsed": false,
    "deletable": true,
    "editable": true
   },
   "outputs": [],
   "source": [
    "dfStgt.select(['sensor_type', 'location']) \\\n",
    "    .distinct() \\\n",
    "    .groupBy('location') \\\n",
    "    .count() \\\n",
    "    .sort(col('count').desc()) \\\n",
    "    .show()"
   ]
  },
  {
   "cell_type": "code",
   "execution_count": 12,
   "metadata": {
    "collapsed": false,
    "deletable": true,
    "editable": true
   },
   "outputs": [
    {
     "name": "stdout",
     "output_type": "stream",
     "text": [
      "+---------+-----------+--------+-----+------+\n",
      "|sensor_id|sensor_type|location|  lon|   lat|\n",
      "+---------+-----------+--------+-----+------+\n",
      "|     8238|     BMP180|    4159|9.188|48.901|\n",
      "|     8227|     BMP180|    4154|9.012|48.809|\n",
      "|     8226|      DHT22|    4154|9.012|48.809|\n",
      "|     8225|     SDS011|    4154|9.012|48.809|\n",
      "|     8184|      DHT22|    4133|9.087|48.752|\n",
      "|     8183|     SDS011|    4133|9.087|48.752|\n",
      "|     8182|      DHT22|    4132|9.152|48.768|\n",
      "|     8181|     SDS011|    4132|9.152|48.768|\n",
      "|     8178|      DHT22|    4130|9.133| 48.74|\n",
      "|     8177|     SDS011|    4130|9.133| 48.74|\n",
      "|     8175|     SDS011|    4129|  9.1|48.718|\n",
      "|     8168|      DHT22|    4125|9.186|48.885|\n",
      "|     8167|     SDS011|    4125|9.186|48.885|\n",
      "|     8150|      DHT22|    4116|9.273|48.784|\n",
      "|     8149|     SDS011|    4116|9.273|48.784|\n",
      "|     8105|      DHT22|    4095|9.105|48.943|\n",
      "|     8104|     SDS011|    4095|9.105|48.943|\n",
      "|     7940|     BME280|    4015|9.227|48.887|\n",
      "|     7939|     SDS011|    4015|9.227|48.887|\n",
      "|     7934|      DHT22|    4012|9.193|48.897|\n",
      "+---------+-----------+--------+-----+------+\n",
      "only showing top 20 rows\n",
      "\n"
     ]
    }
   ],
   "source": [
    "sensorsPD = sensors.toPandas()\n",
    "sensorsPD.to_csv(\"stgt_sensors.csv\")\n",
    "sensors.show()"
   ]
  },
  {
   "cell_type": "code",
   "execution_count": null,
   "metadata": {
    "collapsed": false,
    "deletable": true,
    "editable": true
   },
   "outputs": [],
   "source": [
    "import plotly.plotly as py\n",
    "from plotly.offline import download_plotlyjs, init_notebook_mode, plot, iplot\n",
    "from plotly.graph_objs import *\n",
    "\n",
    "colorscale = [[0, 'rgb(54, 50, 153)'], [0.35, 'rgb(17, 123, 215)'],\n",
    "                [0.5, 'rgb(37, 180, 167)'], [0.6, 'rgb(134, 191, 118)'],\n",
    "                [0.7, 'rgb(249, 210, 41)'], [1.0, 'rgb(244, 236, 21)']]\n",
    "mapbox_access_token = 'pk.eyJ1IjoiamFja3AiLCJhIjoidGpzN0lXVSJ9.7YK6eRwUNFwd3ODZff6JvA'\n",
    "\n",
    "init_notebook_mode(connected=True)"
   ]
  },
  {
   "cell_type": "code",
   "execution_count": null,
   "metadata": {
    "collapsed": false,
    "deletable": true,
    "editable": true
   },
   "outputs": [],
   "source": [
    "data = []\n",
    "\n",
    "data.append(\n",
    "    Scattermapbox(\n",
    "        lon=sensorsPD['lon'].values,\n",
    "        lat=sensorsPD['lat'].values,\n",
    "        mode='markers'\n",
    "    )\n",
    ")\n",
    "        \n",
    "layout = Layout(\n",
    "    margin=dict(t=0,b=0,r=0,l=0),\n",
    "    autosize=True,\n",
    "    hovermode='closest',\n",
    "    showlegend=False,\n",
    "    mapbox=dict(\n",
    "        accesstoken=mapbox_access_token,\n",
    "        bearing=0,\n",
    "        center=dict(\n",
    "            lat=48.78,\n",
    "            lon=9.2\n",
    "        ),\n",
    "        pitch=0,\n",
    "        zoom=12,\n",
    "        style='dark'\n",
    "    ),\n",
    ")\n",
    "\n",
    "fig = dict(data=data, layout=layout)\n",
    "iplot(fig, filename='foo.html')"
   ]
  },
  {
   "cell_type": "markdown",
   "metadata": {
    "deletable": true,
    "editable": true
   },
   "source": [
    "# Aggregate Data to Hourly Data"
   ]
  },
  {
   "cell_type": "code",
   "execution_count": 13,
   "metadata": {
    "collapsed": true,
    "deletable": true,
    "editable": true
   },
   "outputs": [],
   "source": [
    "dfTime = dfStgt.select('sensor_id', year('timestamp').alias('year'), \n",
    "               month('timestamp').alias('month'), \n",
    "               dayofmonth('timestamp').alias('day'), \n",
    "               hour('timestamp').alias('hour'), 'P1', 'durP1', 'P2', 'durP2', 'humidity', 'temperature')"
   ]
  },
  {
   "cell_type": "code",
   "execution_count": 10,
   "metadata": {
    "collapsed": false,
    "deletable": true,
    "editable": true
   },
   "outputs": [
    {
     "name": "stdout",
     "output_type": "stream",
     "text": [
      "+---------+----+-----+---+----+----+-----+----+-----+--------+-----------+\n",
      "|sensor_id|year|month|day|hour|  P1|durP1|  P2|durP2|humidity|temperature|\n",
      "+---------+----+-----+---+----+----+-----+----+-----+--------+-----------+\n",
      "|     4741|2017|    9| 21|   0|null| null|null| null|    55.1|       12.2|\n",
      "|     4741|2017|    9| 21|   0|null| null|null| null|    55.4|       12.3|\n",
      "|     4741|2017|    9| 21|   0|null| null|null| null|    55.7|       12.3|\n",
      "|     4741|2017|    9| 21|   0|null| null|null| null|    55.6|       12.3|\n",
      "|     4741|2017|    9| 21|   0|null| null|null| null|    55.4|       12.3|\n",
      "|     4741|2017|    9| 21|   0|null| null|null| null|    55.5|       12.3|\n",
      "|     4741|2017|    9| 21|   0|null| null|null| null|    55.4|       12.3|\n",
      "|     4741|2017|    9| 21|   0|null| null|null| null|    55.3|       12.3|\n",
      "|     4741|2017|    9| 21|   0|null| null|null| null|    55.2|       12.3|\n",
      "|     4741|2017|    9| 21|   0|null| null|null| null|    55.0|       12.2|\n",
      "|     4741|2017|    9| 21|   0|null| null|null| null|    54.9|       12.2|\n",
      "|     4741|2017|    9| 21|   0|null| null|null| null|    54.7|       12.2|\n",
      "|     4741|2017|    9| 21|   0|null| null|null| null|    54.8|       12.1|\n",
      "|     4741|2017|    9| 21|   0|null| null|null| null|    54.9|       12.1|\n",
      "|     4741|2017|    9| 21|   0|null| null|null| null|    55.0|       12.1|\n",
      "|     4741|2017|    9| 21|   0|null| null|null| null|    55.0|       12.1|\n",
      "|     4741|2017|    9| 21|   1|null| null|null| null|    54.9|       12.0|\n",
      "|     4741|2017|    9| 21|   1|null| null|null| null|    54.7|       12.0|\n",
      "|     4741|2017|    9| 21|   1|null| null|null| null|    54.6|       11.9|\n",
      "|     4741|2017|    9| 21|   1|null| null|null| null|    54.6|       11.9|\n",
      "+---------+----+-----+---+----+----+-----+----+-----+--------+-----------+\n",
      "only showing top 20 rows\n",
      "\n"
     ]
    }
   ],
   "source": [
    "dfTime.show()"
   ]
  },
  {
   "cell_type": "code",
   "execution_count": 14,
   "metadata": {
    "collapsed": true,
    "deletable": true,
    "editable": true
   },
   "outputs": [],
   "source": [
    "dfAgg = dfTime.groupBy(['sensor_id', 'year', 'month', 'day', 'hour']) \\\n",
    "            .agg(mean('P1').alias('P1'), \n",
    "                 mean('P2').alias('P2'), \n",
    "                 mean('humidity').alias('humidity'), \n",
    "                 mean('temperature').alias('temperature'))"
   ]
  },
  {
   "cell_type": "code",
   "execution_count": 20,
   "metadata": {
    "collapsed": false,
    "deletable": true,
    "editable": true,
    "scrolled": true
   },
   "outputs": [
    {
     "name": "stdout",
     "output_type": "stream",
     "text": [
      "+---------+----+-----+---+----+----+----+------------------+------------------+\n",
      "|sensor_id|year|month|day|hour|  P1|  P2|          humidity|       temperature|\n",
      "+---------+----+-----+---+----+----+----+------------------+------------------+\n",
      "|     4741|2017|    8| 26|   7|null|null|40.262735257214544|31.630614805520697|\n",
      "|     4741|2017|    8| 27|  12|null|null|46.377370417193404|32.416940581542356|\n",
      "|     4741|2017|    9|  6|   0|null|null| 62.09299363057324|22.007261146496816|\n",
      "|     4741|2017|    9|  9|  14|null|null| 48.39281129653403|20.274711168164306|\n",
      "|     4741|2017|    9| 12|   8|null|null|54.964082687338504|17.822868217054264|\n",
      "|     4741|2017|    9| 10|   1|null|null| 60.10364109232769|16.321456436931076|\n",
      "|     4741|2017|    9| 19|   0|null|null| 60.13205479452054| 13.12054794520548|\n",
      "|     4741|2017|   12| 31|  13|null|null| 48.47912087912086|15.588461538461535|\n",
      "|     4741|2017|   10|  1|  13|null|null|35.838950276243104|24.434530386740324|\n",
      "|     4741|2017|   10|  9|   8|null|null|57.917534246575336| 14.54191780821918|\n",
      "|     4741|2017|   10| 25|  19|null|null|56.985753424657524|18.009315068493148|\n",
      "|     4741|2017|   11|  5|   2|null|null|55.220281690140844|15.388450704225356|\n",
      "|     4741|2017|   10| 31|  10|null|null| 36.82219178082191|17.512054794520555|\n",
      "|     4741|2017|   12| 13|  15|null|null| 44.56967213114754|  6.43224043715847|\n",
      "|     4741|2017|   11|  6|   3|null|null| 51.54081081081082|11.008378378378374|\n",
      "|     4741|2017|   11| 22|  11|null|null| 34.37988826815642|21.520670391061458|\n",
      "|     4741|2017|   11| 28|  12|null|null|  52.1184573002755|  8.44903581267217|\n",
      "|     4741|2017|   11| 12|  16|null|null|55.021652421652426| 7.470940170940171|\n",
      "|     4741|2017|   11| 17|  18|null|null| 57.68999999999999| 8.388181818181822|\n",
      "|       48|2016|    4| 30|   6|null|null| 75.41881188118809| 4.979207920792079|\n",
      "+---------+----+-----+---+----+----+----+------------------+------------------+\n",
      "only showing top 20 rows\n",
      "\n"
     ]
    }
   ],
   "source": [
    "dfAgg.show()"
   ]
  },
  {
   "cell_type": "code",
   "execution_count": 16,
   "metadata": {
    "collapsed": false,
    "deletable": true,
    "editable": true
   },
   "outputs": [
    {
     "name": "stdout",
     "output_type": "stream",
     "text": [
      "+---------+------------------+------------------+--------+-----------+-------------------+\n",
      "|sensor_id|                P1|                P2|humidity|temperature|          timestamp|\n",
      "+---------+------------------+------------------+--------+-----------+-------------------+\n",
      "|       34| 568.8695652173913|16.543478260869566|    null|       null|2016-03-29 12:00:00|\n",
      "|       34| 745.9354385964914| 18.60017543859649|    null|       null|2016-03-29 13:00:00|\n",
      "|       34| 746.6938655462187| 32.06184873949579|    null|       null|2016-03-29 14:00:00|\n",
      "|       34|  780.933813559322|24.392457627118635|    null|       null|2016-03-29 15:00:00|\n",
      "|       34| 972.7716949152542|18.227288135593223|    null|       null|2016-03-29 16:00:00|\n",
      "|       34| 1029.576068376068|22.139658119658108|    null|       null|2016-03-29 17:00:00|\n",
      "|       34| 1088.398613861386| 45.69811881188118|    null|       null|2016-03-29 18:00:00|\n",
      "|       34|1343.3637606837603| 55.21606837606838|    null|       null|2016-03-29 19:00:00|\n",
      "|       34|1228.0837931034484| 34.95362068965516|    null|       null|2016-03-29 20:00:00|\n",
      "|       34|1603.5156122448986| 44.68826530612244|    null|       null|2016-03-29 21:00:00|\n",
      "|       34|1626.6090909090908|44.807532467532454|    null|       null|2016-03-29 22:00:00|\n",
      "|       34|1407.8489473684208| 47.76614035087718|    null|       null|2016-03-29 23:00:00|\n",
      "|       34|1022.7475423728813| 49.07279661016949|    null|       null|2016-03-30 00:00:00|\n",
      "|       34|1003.4823728813561| 38.64728813559322|    null|       null|2016-03-30 01:00:00|\n",
      "|       34| 968.8378333333335| 39.05149999999999|    null|       null|2016-03-30 02:00:00|\n",
      "|       34|1330.4532173913044|28.628608695652165|    null|       null|2016-03-30 03:00:00|\n",
      "|       34|1081.5222881355933| 53.05254237288135|    null|       null|2016-03-30 04:00:00|\n",
      "|       34| 810.0662931034484| 26.36456896551724|    null|       null|2016-03-30 05:00:00|\n",
      "|       34| 712.9084615384616| 27.40786324786324|    null|       null|2016-03-30 06:00:00|\n",
      "|       34|         995.35275|24.014999999999986|    null|       null|2016-03-30 07:00:00|\n",
      "+---------+------------------+------------------+--------+-----------+-------------------+\n",
      "only showing top 20 rows\n",
      "\n"
     ]
    }
   ],
   "source": [
    "from pyspark.sql.functions import unix_timestamp\n",
    "dfAggTime = dfAgg.select('sensor_id', 'P1', 'P2', 'humidity', 'temperature', concat(col('year'), lit('-'), col('month'), lit(\"-\"), col('day'), lit(\" \"), col(\"hour\"), lit(':00:00')).alias('timestamp_str'))\n",
    "dfAggTime = dfAggTime.select('*', from_unixtime(unix_timestamp('timestamp_str', \"yyyy-MM-dd H:mm:ss\")).alias('timestamp')) \\\n",
    "    .drop('timestamp_str') \\\n",
    "    .sort(col('sensor_id'), col('timestamp')) \\\n",
    "    .persist()\n",
    "dfStgt.unpersist()\n",
    "dfAggTime.show()"
   ]
  },
  {
   "cell_type": "code",
   "execution_count": 19,
   "metadata": {
    "collapsed": false,
    "deletable": true,
    "editable": true
   },
   "outputs": [
    {
     "data": {
      "text/plain": [
       "3939308"
      ]
     },
     "execution_count": 19,
     "metadata": {},
     "output_type": "execute_result"
    }
   ],
   "source": [
    "dfAggTime.count()"
   ]
  },
  {
   "cell_type": "code",
   "execution_count": 15,
   "metadata": {
    "collapsed": false,
    "deletable": true,
    "editable": true
   },
   "outputs": [
    {
     "data": {
      "text/plain": [
       "<matplotlib.text.Text at 0x155725d6f28>"
      ]
     },
     "execution_count": 15,
     "metadata": {},
     "output_type": "execute_result"
    },
    {
     "data": {
      "image/png": "[encoded data removed]",
      "text/plain": [
       "<matplotlib.figure.Figure at 0x1557256c940>"
      ]
     },
     "metadata": {},
     "output_type": "display_data"
    }
   ],
   "source": [
    "import matplotlib.pyplot as plt\n",
    "\n",
    "pdExample = dfAggTime.filter(col('sensor_id') == 34).toPandas()\n",
    "plt.plot_date(pdExample['timestamp'], pdExample['P1'], fmt=\"r-\")\n",
    "plt.title('P1')"
   ]
  },
  {
   "cell_type": "markdown",
   "metadata": {
    "deletable": true,
    "editable": true
   },
   "source": [
    "Create a dataframe with unique sensor_id."
   ]
  },
  {
   "cell_type": "code",
   "execution_count": 17,
   "metadata": {
    "collapsed": false,
    "deletable": true,
    "editable": true
   },
   "outputs": [
    {
     "name": "stdout",
     "output_type": "stream",
     "text": [
      "+---------+--------+-----------+--------------+----------------+\n",
      "|sensor_id|location|sensor_type|           lon|             lat|\n",
      "+---------+--------+-----------+--------------+----------------+\n",
      "|     4935|    2483|     SDS011|       [9.155]|         [48.83]|\n",
      "|     1645|     820|     SDS011|       [9.154]|        [48.744]|\n",
      "|      148|      39|      DHT22|        [9.18]|        [48.809]|\n",
      "|     8105|    4095|      DHT22|       [9.105]|        [48.943]|\n",
      "|     1483|     734|     SDS011|       [9.223]|        [48.781]|\n",
      "|     1127|     550|      DHT22|       [9.101]|        [48.606]|\n",
      "|      737|     353|     SDS011|       [9.236]|        [48.801]|\n",
      "|      243|     106|     SDS011|    [9.3, 9.3]|[48.727, 48.728]|\n",
      "|     7850|    3970|      DHT22|       [9.343]|        [48.796]|\n",
      "|     2996|    1508|     SDS011|       [9.111]|        [48.744]|\n",
      "|     2821|    1418|      DHT22|       [9.168]|        [48.762]|\n",
      "|     1352|     670|     SDS011|       [9.328]|         [48.83]|\n",
      "|     1143|     560|      DHT22|       [9.217]|        [48.751]|\n",
      "|     3986|    2007|      DHT22|       [9.278]|        [48.751]|\n",
      "|     3220|    1622|      DHT22|       [9.162]|        [48.769]|\n",
      "|     2488|    1255|     SDS011|       [9.123]|        [48.717]|\n",
      "|      451|     212|      DHT22|[9.168, 9.174]|[48.748, 48.748]|\n",
      "|      137|      63|      DHT22|       [9.146]|        [48.771]|\n",
      "|     4383|    2206|     SDS011|       [9.147]|        [48.765]|\n",
      "|     2622|    1321|     SDS011|       [9.022]|         [48.69]|\n",
      "+---------+--------+-----------+--------------+----------------+\n",
      "only showing top 20 rows\n",
      "\n"
     ]
    }
   ],
   "source": [
    "sensorsUnique = sensors.groupBy('sensor_id') \\\n",
    "    .agg(first('location').alias('location'), \n",
    "         first('sensor_type').alias('sensor_type'), \n",
    "         collect_list('lon').alias('lon'), \n",
    "         collect_list('lat').alias('lat'))\n",
    "sensorsUnique.show()"
   ]
  },
  {
   "cell_type": "code",
   "execution_count": 18,
   "metadata": {
    "collapsed": true,
    "deletable": true,
    "editable": true
   },
   "outputs": [],
   "source": [
    "sensorsUniquePD = sensorsUnique.toPandas()\n",
    "sensorsUniquePD.to_csv('unique_sensors.csv')"
   ]
  },
  {
   "cell_type": "code",
   "execution_count": 20,
   "metadata": {
    "collapsed": false,
    "deletable": true,
    "editable": true
   },
   "outputs": [
    {
     "name": "stdout",
     "output_type": "stream",
     "text": [
      "+---------+----+----+------------------+------------------+-------------------+--------+-----------+------+--------+\n",
      "|sensor_id|  P1|  P2|          humidity|       temperature|          timestamp|location|sensor_type|   lon|     lat|\n",
      "+---------+----+----+------------------+------------------+-------------------+--------+-----------+------+--------+\n",
      "|      148|null|null| 66.13658536585363| 20.55121951219512|2016-08-14 21:00:00|      39|      DHT22|[9.18]|[48.809]|\n",
      "|      148|null|null| 66.36021505376344|20.453763440860214|2016-08-14 22:00:00|      39|      DHT22|[9.18]|[48.809]|\n",
      "|      148|null|null| 71.74148936170212|19.407446808510638|2016-08-14 23:00:00|      39|      DHT22|[9.18]|[48.809]|\n",
      "|      148|null|null| 76.39890109890109|18.428571428571438|2016-08-15 00:00:00|      39|      DHT22|[9.18]|[48.809]|\n",
      "|      148|null|null| 79.97176470588235| 17.70705882352942|2016-08-15 01:00:00|      39|      DHT22|[9.18]|[48.809]|\n",
      "|      148|null|null|  81.4012658227848| 17.38860759493671|2016-08-15 02:00:00|      39|      DHT22|[9.18]|[48.809]|\n",
      "|      148|null|null| 84.34597701149428|16.752873563218387|2016-08-15 03:00:00|      39|      DHT22|[9.18]|[48.809]|\n",
      "|      148|null|null| 85.07045454545452| 16.53409090909091|2016-08-15 04:00:00|      39|      DHT22|[9.18]|[48.809]|\n",
      "|      148|null|null| 87.63139534883722|15.968604651162781|2016-08-15 05:00:00|      39|      DHT22|[9.18]|[48.809]|\n",
      "|      148|null|null| 87.95425531914894| 15.81063829787234|2016-08-15 06:00:00|      39|      DHT22|[9.18]|[48.809]|\n",
      "|      148|null|null| 84.28292682926832| 16.67926829268293|2016-08-15 07:00:00|      39|      DHT22|[9.18]|[48.809]|\n",
      "|      148|null|null|  76.6413043478261| 18.41630434782609|2016-08-15 08:00:00|      39|      DHT22|[9.18]|[48.809]|\n",
      "|      148|null|null| 69.33804347826087| 20.44891304347826|2016-08-15 09:00:00|      39|      DHT22|[9.18]|[48.809]|\n",
      "|      148|null|null| 61.54886363636363|              22.4|2016-08-15 10:00:00|      39|      DHT22|[9.18]|[48.809]|\n",
      "|      148|null|null|56.589024390243885|24.406097560975613|2016-08-15 11:00:00|      39|      DHT22|[9.18]|[48.809]|\n",
      "|      148|null|null|  49.1357142857143|26.395918367346944|2016-08-15 12:00:00|      39|      DHT22|[9.18]|[48.809]|\n",
      "|      148|null|null| 46.73195876288659| 26.60515463917526|2016-08-15 13:00:00|      39|      DHT22|[9.18]|[48.809]|\n",
      "|      148|null|null|44.222222222222214|27.203703703703702|2016-08-15 14:00:00|      39|      DHT22|[9.18]|[48.809]|\n",
      "|      148|null|null| 41.33555555555555|27.912222222222216|2016-08-15 15:00:00|      39|      DHT22|[9.18]|[48.809]|\n",
      "|      148|null|null| 39.44945054945055|28.373626373626383|2016-08-15 16:00:00|      39|      DHT22|[9.18]|[48.809]|\n",
      "+---------+----+----+------------------+------------------+-------------------+--------+-----------+------+--------+\n",
      "only showing top 20 rows\n",
      "\n"
     ]
    }
   ],
   "source": [
    "dfAggTime = dfAggTime.join(sensorsUnique, 'sensor_id') \\\n",
    "    .filter(col('sensor_type') != \"PPD42NS\") \\\n",
    "    .persist()\n",
    "dfAggTime.show()"
   ]
  },
  {
   "cell_type": "code",
   "execution_count": 21,
   "metadata": {
    "collapsed": true,
    "deletable": true,
    "editable": true
   },
   "outputs": [],
   "source": [
    "dfAggTimeReindex = dfAggTime.groupBy('location') \\\n",
    "    .agg(collect_list('sensor_id').alias('sensor_id'),\n",
    "        collect_list('sensor_type').alias('sensor_type'),\n",
    "        collect_list('timestamp').alias('timestamp'),\n",
    "        collect_list('P1').alias('P1'),\n",
    "        collect_list('P2').alias('P2'),\n",
    "        collect_list('humidity').alias('humidity'),\n",
    "        collect_list('temperature').alias('temperature'),\n",
    "        count(lit(1)).alias('n'),\n",
    "        min('timestamp').alias('start'),\n",
    "        max('timestamp').alias('end'))"
   ]
  },
  {
   "cell_type": "code",
   "execution_count": 22,
   "metadata": {
    "collapsed": false,
    "deletable": true,
    "editable": true
   },
   "outputs": [
    {
     "data": {
      "text/plain": [
       "457"
      ]
     },
     "execution_count": 22,
     "metadata": {},
     "output_type": "execute_result"
    }
   ],
   "source": [
    "dfAggTimeReindex.count()"
   ]
  },
  {
   "cell_type": "code",
   "execution_count": 28,
   "metadata": {
    "collapsed": false,
    "deletable": true,
    "editable": true
   },
   "outputs": [],
   "source": [
    "dfAggTimeReindex.write.parquet('stgt_hourly_mean_by_location.parquet', mode=\"overwrite\")"
   ]
  },
  {
   "cell_type": "code",
   "execution_count": 29,
   "metadata": {
    "collapsed": false
   },
   "outputs": [
    {
     "name": "stdout",
     "output_type": "stream",
     "text": [
      "+--------+--------------------+--------------------+--------------------+--------------------+--------------------+--------------------+--------------------+-----+-------------------+-------------------+\n",
      "|location|           sensor_id|         sensor_type|           timestamp|                  P1|                  P2|            humidity|         temperature|    n|              start|                end|\n",
      "+--------+--------------------+--------------------+--------------------+--------------------+--------------------+--------------------+--------------------+-----+-------------------+-------------------+\n",
      "|     471|[966, 966, 966, 9...|[SDS011, SDS011, ...|[2017-03-08 04:00...|[11.3394117647058...|[9.91294117647058...|[55.9117647058823...|[11.6294117647058...|12700|2017-03-08 04:00:00|2018-01-01 23:00:00|\n",
      "|    1342|[2664, 2664, 2664...|[SDS011, SDS011, ...|[2017-05-14 08:00...|[2.88666666666666...|[2.40952380952380...|                  []|                  []| 4356|2017-05-14 08:00:00|2018-01-01 21:00:00|\n",
      "|    3794|[7505, 7505, 7505...|[SDS011, SDS011, ...|[2017-12-04 15:00...|[8.86249999999999...|[5.94916666666666...|                  []|                  []|  681|2017-12-04 15:00:00|2018-01-01 23:00:00|\n",
      "|      31|[161, 161, 161, 1...|[DHT22, DHT22, DH...|[2016-09-13 20:00...|[9.15, 13.0453571...|[4.295, 8.2278571...|[38.3272727272727...|[28.7878787878787...| 5452|2016-09-13 19:00:00|2018-01-01 10:00:00|\n",
      "|    1303|[2587, 2587, 2587...|[DHT22, DHT22, DH...|[2017-05-24 17:00...|[3.69789473684210...|[2.95684210526315...|[47.4473684210526...|[20.9894736842105...|10566|2017-05-24 17:00:00|2018-01-01 23:00:00|\n",
      "|    1903|[3776, 3776, 3776...|[DHT22, DHT22, DH...|[2017-06-25 10:00...|[3.69461538461538...|[2.88461538461538...|[36.4384615384615...|[24.6307692307692...| 8821|2017-06-25 10:00:00|2018-01-01 23:00:00|\n",
      "|     251|[530, 530, 530, 5...|[DHT22, DHT22, DH...|[2017-01-28 13:00...|[39.0982539682539...|[27.6685714285714...|[24.2666666666666...|[19.9000000000000...|16212|2017-01-26 00:00:00|2018-01-01 23:00:00|\n",
      "|      85|[191, 191, 191, 1...|[SDS011, SDS011, ...|[2016-10-17 18:00...|[34.6899999999999...|[19.4595000000000...|                  []|                  []|10058|2016-10-17 18:00:00|2018-01-01 23:00:00|\n",
      "|      65|[140, 140, 140, 1...|[SDS011, SDS011, ...|[2016-08-12 16:00...|[9.37999999999999...|[6.40499999999999...|[60.8666666666666...|[22.5, 22.9031914...|23960|2016-08-12 16:00:00|2018-01-02 23:00:00|\n",
      "|     458|[943, 943, 943, 9...|[DHT22, DHT22, DH...|[2017-03-05 22:00...|[1.82470588235294...|[1.12205882352941...|[90.2305555555555...|[5.14166666666666...| 7069|2017-03-05 22:00:00|2018-01-01 22:00:00|\n",
      "|    3790|[7497, 7497, 7497...|[SDS011, SDS011, ...|[2017-12-03 23:00...|[8.52176470588235...|[3.63, 1.46125, 2...|[53.1882352941176...|[19.2176470588235...| 1324|2017-12-03 23:00:00|2018-01-01 23:00:00|\n",
      "|     799|[1611, 1611, 1611...|[SDS011, SDS011, ...|[2017-04-12 05:00...|[1.22209302325581...|[0.70604651162790...|[43.5488372093023...|[9.16976744186046...|10920|2017-04-12 05:00:00|2017-12-30 09:00:00|\n",
      "|     255|[536, 536, 536, 5...|[DHT22, DHT22, DH...|[2017-01-26 18:00...|[15.8323809523809...|[6.06476190476190...|[42.255, 44.55454...|[22.88, 21.965454...|15432|2017-01-26 18:00:00|2018-01-01 23:00:00|\n",
      "|     472|[969, 969, 969, 9...|[DHT22, DHT22, DH...|[2017-03-07 21:00...|[19.4057894736842...|[10.4705263157894...|[82.1777777777777...|[5.46666666666666...|14383|2017-03-07 21:00:00|2018-01-01 23:00:00|\n",
      "|     296|[620, 620, 620, 6...|[SDS011, SDS011, ...|[2017-02-10 22:00...|[8.63222222222222...|[4.85666666666666...|[67.9558139534883...|[1.13023255813953...|15291|2017-02-10 22:00:00|2018-01-01 23:00:00|\n",
      "|    1466|[2912, 2912, 2912...|[SDS011, SDS011, ...|[2017-05-23 14:00...|[5.94799999999999...|[2.956, 2.9168000...|[28.02, 29.296000...|[29.75, 29.776, 2...| 9254|2017-05-23 14:00:00|2018-01-01 23:00:00|\n",
      "|    1016|[2023, 2023, 2023...|[SDS011, SDS011, ...|[2017-04-26 14:00...|[16.9087804878048...|[15.0275609756097...|[55.1999999999999...|[10.3292682926829...|11688|2017-04-26 14:00:00|2018-01-01 23:00:00|\n",
      "|      78|[179, 179, 179, 1...|[SDS011, SDS011, ...|[2016-10-04 15:00...|[8.765, 21.9874, ...|[5.805, 13.414599...|[52.9, 65.7895833...|[19.5, 16.2312499...|20503|2016-10-04 15:00:00|2018-01-01 23:00:00|\n",
      "|     322|[679, 679, 679, 6...|[SDS011, SDS011, ...|[2017-02-15 22:00...|[95.4788888888888...|[53.2238888888888...|[87.1611111111111...|[2.13888888888888...|10860|2017-02-15 22:00:00|2017-12-18 15:00:00|\n",
      "|     362|[756, 756, 756, 7...|[DHT22, DHT22, DH...|[2017-02-23 18:00...|[71.78, 70.580476...|[69.18, 68.024444...|[50.2333333333333...|[12.5285714285714...|14360|2017-02-23 17:00:00|2018-01-01 23:00:00|\n",
      "+--------+--------------------+--------------------+--------------------+--------------------+--------------------+--------------------+--------------------+-----+-------------------+-------------------+\n",
      "only showing top 20 rows\n",
      "\n"
     ]
    }
   ],
   "source": [
    "dfAggTimeReindex.show()"
   ]
  },
  {
   "cell_type": "code",
   "execution_count": null,
   "metadata": {
    "collapsed": true,
    "deletable": true,
    "editable": true
   },
   "outputs": [],
   "source": [
    "dfAggTimeReindex = dfAggTime.groupBy('sensor_id') \\\n",
    "    .agg(collect_list('timestamp').alias('timestamp'), \n",
    "        collect_list('P1').alias('P1'),\n",
    "        collect_list('P2').alias('P2'),\n",
    "        collect_list('humidity').alias('humidity'),\n",
    "        collect_list('temperature').alias('temperature'),\n",
    "        count(lit(1)).alias('n'),\n",
    "        min('timestamp').alias('start'),\n",
    "        max('timestamp').alias('end'))"
   ]
  },
  {
   "cell_type": "code",
   "execution_count": null,
   "metadata": {
    "collapsed": false,
    "deletable": true,
    "editable": true
   },
   "outputs": [],
   "source": [
    "dfAggTimeReindexWithSensor = dfAggTimeReindex.join(sensorsUnique, 'sensor_id')\n",
    "dfAggTimeReindexWithSensor.show()"
   ]
  },
  {
   "cell_type": "markdown",
   "metadata": {
    "deletable": true,
    "editable": true
   },
   "source": [
    "Use just the recommended sensors. TODO: Add Bosch sensors."
   ]
  },
  {
   "cell_type": "code",
   "execution_count": null,
   "metadata": {
    "collapsed": false,
    "deletable": true,
    "editable": true
   },
   "outputs": [],
   "source": [
    "def isInList(sensorTypeList):\n",
    "    return udf(lambda sensor_type: sensor_type in sensorTypeList, BooleanType())\n",
    "\n",
    "sensorTypeList = ['DHT22', 'SDS011']\n",
    "dfAggTimeReindexWithSensor.where(isInList(sensorTypeList)('sensor_type')).count()"
   ]
  },
  {
   "cell_type": "code",
   "execution_count": null,
   "metadata": {
    "collapsed": true,
    "deletable": true,
    "editable": true
   },
   "outputs": [],
   "source": [
    "dfAggTime.write.parquet('stgt_hourly_mean.parquet', mode=\"overwrite\")"
   ]
  },
  {
   "cell_type": "code",
   "execution_count": 121,
   "metadata": {
    "collapsed": true,
    "deletable": true,
    "editable": true
   },
   "outputs": [],
   "source": [
    "dfAggTimeReindexWithSensor.write.parquet('stgt_hourly_mean_with_sensors.parquet', mode=\"overwrite\")"
   ]
  },
  {
   "cell_type": "code",
   "execution_count": 62,
   "metadata": {
    "collapsed": true,
    "deletable": true,
    "editable": true
   },
   "outputs": [],
   "source": [
    "dfAggTime.repartition(1).write.csv('stgt_hourly_mean_csv', header=True, mode=\"overwrite\")"
   ]
  },
  {
   "cell_type": "code",
   "execution_count": null,
   "metadata": {
    "collapsed": true,
    "deletable": true,
    "editable": true
   },
   "outputs": [],
   "source": [
    "sess.stop()"
   ]
  }
 ],
 "metadata": {
  "anaconda-cloud": {},
  "kernelspec": {
   "display_name": "Python [default]",
   "language": "python",
   "name": "python3"
  },
  "language_info": {
   "codemirror_mode": {
    "name": "ipython",
    "version": 3
   },
   "file_extension": ".py",
   "mimetype": "text/x-python",
   "name": "python",
   "nbconvert_exporter": "python",
   "pygments_lexer": "ipython3",
   "version": "3.5.3"
  }
 },
 "nbformat": 4,
 "nbformat_minor": 1
}
