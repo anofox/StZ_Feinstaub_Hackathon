{
 "cells": [
  {
   "cell_type": "code",
   "execution_count": 1,
   "metadata": {},
   "outputs": [],
   "source": [
    "import findspark\n",
    "findspark.init()\n",
    "import datetime as dt\n",
    "\n",
    "import plotly.plotly as py\n",
    "from plotly.offline import download_plotlyjs, init_notebook_mode, plot, iplot\n",
    "from plotly.graph_objs import *\n",
    "\n",
    "from pyspark.sql import SparkSession\n",
    "from pyspark.sql.types import *\n",
    "from pyspark.sql.functions import *"
   ]
  },
  {
   "cell_type": "code",
   "execution_count": 2,
   "metadata": {},
   "outputs": [],
   "source": [
    "sess = SparkSession.builder \\\n",
    "                   .master(\"local[*]\") \\\n",
    "                   .config(\"spark.driver.memory\", \"48g\") \\\n",
    "                   .getOrCreate()"
   ]
  },
  {
   "cell_type": "code",
   "execution_count": 4,
   "metadata": {},
   "outputs": [
    {
     "data": {
      "text/plain": [
       "646298786"
      ]
     },
     "execution_count": 4,
     "metadata": {},
     "output_type": "execute_result"
    }
   ],
   "source": [
    "df = sess.read.parquet(\"./luftdaten.info.20180103.parquet/\")\n",
    "df.count()"
   ]
  },
  {
   "cell_type": "code",
   "execution_count": 6,
   "metadata": {},
   "outputs": [],
   "source": [
    "df = df.where(\"sensor_id = 189\") \\\n",
    "       .withColumn(\"hour\", hour(df[\"timestamp\"])) \\\n",
    "       .select([\"hour\", \"sensor_id\", \"lat\", \"lon\", \"P1\", \"P2\"]) \\\n",
    "       .groupBy([\"hour\", \"sensor_id\", \"lat\", \"lon\"]) \\\n",
    "       .agg({\"P1\": \"avg\", \"P2\": \"avg\"}) \\\n",
    "       .orderBy([\"hour\", \"sensor_id\"]) \\\n",
    "       .toPandas()"
   ]
  },
  {
   "cell_type": "code",
   "execution_count": 7,
   "metadata": {},
   "outputs": [
    {
     "data": {
      "text/html": [
       "<div>\n",
       "<style scoped>\n",
       "    .dataframe tbody tr th:only-of-type {\n",
       "        vertical-align: middle;\n",
       "    }\n",
       "\n",
       "    .dataframe tbody tr th {\n",
       "        vertical-align: top;\n",
       "    }\n",
       "\n",
       "    .dataframe thead th {\n",
       "        text-align: right;\n",
       "    }\n",
       "</style>\n",
       "<table border=\"1\" class=\"dataframe\">\n",
       "  <thead>\n",
       "    <tr style=\"text-align: right;\">\n",
       "      <th></th>\n",
       "      <th>hour</th>\n",
       "      <th>sensor_id</th>\n",
       "      <th>lat</th>\n",
       "      <th>lon</th>\n",
       "      <th>avg(P1)</th>\n",
       "      <th>avg(P2)</th>\n",
       "    </tr>\n",
       "  </thead>\n",
       "  <tbody>\n",
       "    <tr>\n",
       "      <th>24</th>\n",
       "      <td>12</td>\n",
       "      <td>189</td>\n",
       "      <td>48.781</td>\n",
       "      <td>9.192</td>\n",
       "      <td>30.072065</td>\n",
       "      <td>13.171231</td>\n",
       "    </tr>\n",
       "    <tr>\n",
       "      <th>25</th>\n",
       "      <td>12</td>\n",
       "      <td>189</td>\n",
       "      <td>48.813</td>\n",
       "      <td>9.125</td>\n",
       "      <td>13.530601</td>\n",
       "      <td>6.676378</td>\n",
       "    </tr>\n",
       "  </tbody>\n",
       "</table>\n",
       "</div>"
      ],
      "text/plain": [
       "    hour  sensor_id     lat    lon    avg(P1)    avg(P2)\n",
       "24    12        189  48.781  9.192  30.072065  13.171231\n",
       "25    12        189  48.813  9.125  13.530601   6.676378"
      ]
     },
     "execution_count": 7,
     "metadata": {},
     "output_type": "execute_result"
    }
   ],
   "source": [
    "df = df[df[\"hour\"] == 12]\n",
    "df"
   ]
  },
  {
   "cell_type": "code",
   "execution_count": 8,
   "metadata": {},
   "outputs": [
    {
     "data": {
      "text/html": [
       "<script>requirejs.config({paths: { 'plotly': ['https://cdn.plot.ly/plotly-latest.min']},});if(!window.Plotly) {{require(['plotly'],function(plotly) {window.Plotly=plotly;});}}</script>"
      ],
      "text/vnd.plotly.v1+html": [
       "<script>requirejs.config({paths: { 'plotly': ['https://cdn.plot.ly/plotly-latest.min']},});if(!window.Plotly) {{require(['plotly'],function(plotly) {window.Plotly=plotly;});}}</script>"
      ]
     },
     "metadata": {},
     "output_type": "display_data"
    }
   ],
   "source": [
    "colorscale = [[0, 'rgb(54, 50, 153)'], [0.35, 'rgb(17, 123, 215)'],\n",
    "                [0.5, 'rgb(37, 180, 167)'], [0.6, 'rgb(134, 191, 118)'],\n",
    "                [0.7, 'rgb(249, 210, 41)'], [1.0, 'rgb(244, 236, 21)']]\n",
    "mapbox_access_token = 'pk.eyJ1IjoiamFja3AiLCJhIjoidGpzN0lXVSJ9.7YK6eRwUNFwd3ODZff6JvA'\n",
    "\n",
    "init_notebook_mode(connected=True)"
   ]
  },
  {
   "cell_type": "code",
   "execution_count": 9,
   "metadata": {},
   "outputs": [
    {
     "data": {
      "application/vnd.plotly.v1+json": {
       "data": [
        {
         "lat": [
          48.781,
          48.813
         ],
         "lon": [
          9.192,
          9.125
         ],
         "marker": {
          "color": [
           30.07206532548,
           13.530600961538466
          ]
         },
         "mode": "markers",
         "type": "scattermapbox"
        }
       ],
       "layout": {
        "autosize": true,
        "hovermode": "closest",
        "mapbox": {
         "accesstoken": "pk.eyJ1IjoiamFja3AiLCJhIjoidGpzN0lXVSJ9.7YK6eRwUNFwd3ODZff6JvA",
         "bearing": 0,
         "center": {
          "lat": 48.78,
          "lon": 9.2
         },
         "pitch": 0,
         "style": "dark",
         "zoom": 12
        },
        "margin": {
         "b": 0,
         "l": 0,
         "r": 0,
         "t": 0
        },
        "showlegend": false
       }
      },
      "text/html": [
       "<div id=\"f03e5d7e-3cb5-49b2-a722-f79e19c75570\" style=\"height: 525px; width: 100%;\" class=\"plotly-graph-div\"></div><script type=\"text/javascript\">require([\"plotly\"], function(Plotly) { window.PLOTLYENV=window.PLOTLYENV || {};window.PLOTLYENV.BASE_URL=\"https://plot.ly\";Plotly.newPlot(\"f03e5d7e-3cb5-49b2-a722-f79e19c75570\", [{\"type\": \"scattermapbox\", \"lon\": [9.192, 9.125], \"lat\": [48.781, 48.813], \"mode\": \"markers\", \"marker\": {\"color\": [30.07206532548, 13.530600961538466]}}], {\"margin\": {\"t\": 0, \"b\": 0, \"r\": 0, \"l\": 0}, \"autosize\": true, \"hovermode\": \"closest\", \"showlegend\": false, \"mapbox\": {\"accesstoken\": \"pk.eyJ1IjoiamFja3AiLCJhIjoidGpzN0lXVSJ9.7YK6eRwUNFwd3ODZff6JvA\", \"bearing\": 0, \"center\": {\"lat\": 48.78, \"lon\": 9.2}, \"pitch\": 0, \"zoom\": 12, \"style\": \"dark\"}}, {\"showLink\": true, \"linkText\": \"Export to plot.ly\"})});</script>"
      ],
      "text/vnd.plotly.v1+html": [
       "<div id=\"f03e5d7e-3cb5-49b2-a722-f79e19c75570\" style=\"height: 525px; width: 100%;\" class=\"plotly-graph-div\"></div><script type=\"text/javascript\">require([\"plotly\"], function(Plotly) { window.PLOTLYENV=window.PLOTLYENV || {};window.PLOTLYENV.BASE_URL=\"https://plot.ly\";Plotly.newPlot(\"f03e5d7e-3cb5-49b2-a722-f79e19c75570\", [{\"type\": \"scattermapbox\", \"lon\": [9.192, 9.125], \"lat\": [48.781, 48.813], \"mode\": \"markers\", \"marker\": {\"color\": [30.07206532548, 13.530600961538466]}}], {\"margin\": {\"t\": 0, \"b\": 0, \"r\": 0, \"l\": 0}, \"autosize\": true, \"hovermode\": \"closest\", \"showlegend\": false, \"mapbox\": {\"accesstoken\": \"pk.eyJ1IjoiamFja3AiLCJhIjoidGpzN0lXVSJ9.7YK6eRwUNFwd3ODZff6JvA\", \"bearing\": 0, \"center\": {\"lat\": 48.78, \"lon\": 9.2}, \"pitch\": 0, \"zoom\": 12, \"style\": \"dark\"}}, {\"showLink\": true, \"linkText\": \"Export to plot.ly\"})});</script>"
      ]
     },
     "metadata": {},
     "output_type": "display_data"
    }
   ],
   "source": [
    "data = []\n",
    "\n",
    "data.append(\n",
    "    Scattermapbox(\n",
    "        lon=df['lon'].values,\n",
    "        lat=df['lat'].values,\n",
    "        mode='markers',\n",
    "        marker=Marker(\n",
    "            color=df['avg(P1)'].values\n",
    "        ),\n",
    "    )\n",
    ")\n",
    "        \n",
    "layout = Layout(\n",
    "    margin=dict(t=0,b=0,r=0,l=0),\n",
    "    autosize=True,\n",
    "    hovermode='closest',\n",
    "    showlegend=False,\n",
    "    mapbox=dict(\n",
    "        accesstoken=mapbox_access_token,\n",
    "        bearing=0,\n",
    "        center=dict(\n",
    "            lat=48.78,\n",
    "            lon=9.2\n",
    "        ),\n",
    "        pitch=0,\n",
    "        zoom=12,\n",
    "        style='dark'\n",
    "    ),\n",
    ")\n",
    "\n",
    "fig = dict(data=data, layout=layout)\n",
    "iplot(fig, filename='foo.html')"
   ]
  }
 ],
 "metadata": {
  "kernelspec": {
   "display_name": "Python 3",
   "language": "python",
   "name": "python3"
  },
  "language_info": {
   "codemirror_mode": {
    "name": "ipython",
    "version": 3
   },
   "file_extension": ".py",
   "mimetype": "text/x-python",
   "name": "python",
   "nbconvert_exporter": "python",
   "pygments_lexer": "ipython3",
   "version": "3.6.3"
  }
 },
 "nbformat": 4,
 "nbformat_minor": 2
}
