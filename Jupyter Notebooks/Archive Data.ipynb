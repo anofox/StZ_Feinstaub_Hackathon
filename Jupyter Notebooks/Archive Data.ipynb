{
 "cells": [
  {
   "cell_type": "code",
   "execution_count": 4,
   "metadata": {},
   "outputs": [],
   "source": [
    "import findspark\n",
    "findspark.init()\n",
    "import datetime as dt\n",
    "\n",
    "from pyspark.sql import SparkSession\n",
    "from pyspark.sql.types import *\n",
    "from pyspark.sql.functions import *"
   ]
  },
  {
   "cell_type": "code",
   "execution_count": 5,
   "metadata": {},
   "outputs": [],
   "source": [
    "sess = SparkSession.builder \\\n",
    "                   .master(\"local[*]\") \\\n",
    "                   .config(\"spark.driver.memory\", \"48g\") \\\n",
    "                   .getOrCreate()"
   ]
  },
  {
   "cell_type": "code",
   "execution_count": 6,
   "metadata": {},
   "outputs": [],
   "source": [
    "#df.select(\"sensor_type\").distinct().show()\n",
    "\n",
    "all_cols = ['sensor_id',\n",
    " 'sensor_type',\n",
    " 'location',\n",
    " 'lat',\n",
    " 'lon',\n",
    " 'timestamp',\n",
    " 'P1',\n",
    " 'durP1',\n",
    " 'ratioP1',\n",
    " 'P2',\n",
    " 'durP2',\n",
    " 'ratioP2',\n",
    " 'temperature',\n",
    " 'humidity',\n",
    " 'pressure',\n",
    " 'altitude',\n",
    " 'pressure_sealevel']"
   ]
  },
  {
   "cell_type": "code",
   "execution_count": 7,
   "metadata": {},
   "outputs": [
    {
     "name": "stdout",
     "output_type": "stream",
     "text": [
      "270166379\n"
     ]
    }
   ],
   "source": [
    "dht22_schema = StructType([\n",
    "    StructField(\"sensor_id\", IntegerType()),\n",
    "    StructField(\"sensor_type\", StringType()),\n",
    "    StructField(\"location\", IntegerType()),\n",
    "    StructField(\"lat\", DoubleType()),\n",
    "    StructField(\"lon\", DoubleType()),\n",
    "    StructField(\"timestamp\", TimestampType()),\n",
    "    StructField(\"temperature\", DoubleType()),\n",
    "    StructField(\"humidity\", DoubleType())\n",
    "])\n",
    "dht22_df = sess.read.csv(\"./archive.luftdaten.info/**/*dht22*.csv\", sep=\";\", header=True, schema=dht22_schema) \\\n",
    "               .withColumn(\"pressure\", expr(\"null\").cast(DoubleType())) \\\n",
    "               .withColumn(\"altitude\", expr(\"null\").cast(DoubleType())) \\\n",
    "               .withColumn(\"pressure_sealevel\", expr(\"null\").cast(DoubleType())) \\\n",
    "               .withColumn(\"P1\", expr(\"null\").cast(StringType())) \\\n",
    "               .withColumn(\"durP1\", expr(\"null\").cast(IntegerType())) \\\n",
    "               .withColumn(\"ratioP1\", expr(\"null\").cast(DoubleType())) \\\n",
    "               .withColumn(\"P2\", expr(\"null\").cast(StringType())) \\\n",
    "               .withColumn(\"durP2\", expr(\"null\").cast(IntegerType())) \\\n",
    "               .withColumn(\"ratioP2\", expr(\"null\").cast(DoubleType())) \n",
    "dht22_df = dht22_df.select(all_cols)\n",
    "print(dht22_df.count())"
   ]
  },
  {
   "cell_type": "code",
   "execution_count": 8,
   "metadata": {},
   "outputs": [
    {
     "name": "stdout",
     "output_type": "stream",
     "text": [
      "327172888\n"
     ]
    }
   ],
   "source": [
    "sds011_schema = StructType([\n",
    "    StructField(\"sensor_id\", IntegerType()),\n",
    "    StructField(\"sensor_type\", StringType()),\n",
    "    StructField(\"location\", IntegerType()),\n",
    "    StructField(\"lat\", DoubleType()),\n",
    "    StructField(\"lon\", DoubleType()),\n",
    "    StructField(\"timestamp\", TimestampType()),\n",
    "    StructField(\"P1\", StringType()),\n",
    "    StructField(\"durP1\", IntegerType()),\n",
    "    StructField(\"ratioP1\", DoubleType()),\n",
    "    StructField(\"P2\", StringType()),\n",
    "    StructField(\"durP2\", IntegerType()),\n",
    "    StructField(\"ratioP2\", DoubleType())\n",
    "])\n",
    "sds011_df = sess.read.csv(\"./archive.luftdaten.info/**/*sds011*.csv\", sep=\";\", header=True, schema=sds011_schema) \\\n",
    "                .withColumn(\"temperature\", expr(\"null\")) \\\n",
    "                .withColumn(\"humidity\", expr(\"null\")) \\\n",
    "                .withColumn(\"pressure\", expr(\"null\")) \\\n",
    "                .withColumn(\"altitude\", expr(\"null\")) \\\n",
    "                .withColumn(\"pressure_sealevel\", expr(\"null\"))\n",
    "sds011_df = sds011_df.select(all_cols)\n",
    "print(sds011_df.count())"
   ]
  },
  {
   "cell_type": "code",
   "execution_count": 9,
   "metadata": {},
   "outputs": [
    {
     "name": "stdout",
     "output_type": "stream",
     "text": [
      "17197116\n"
     ]
    }
   ],
   "source": [
    "ppd42ns_schema =  StructType([\n",
    "    StructField(\"sensor_id\", IntegerType()),\n",
    "    StructField(\"sensor_type\", StringType()),\n",
    "    StructField(\"location\", IntegerType()),\n",
    "    StructField(\"lat\", DoubleType()),\n",
    "    StructField(\"lon\", DoubleType()),\n",
    "    StructField(\"timestamp\", TimestampType()),\n",
    "    StructField(\"P1\", StringType()),\n",
    "    StructField(\"durP1\", IntegerType()),\n",
    "    StructField(\"ratioP1\", DoubleType()),\n",
    "    StructField(\"P2\", StringType()),\n",
    "    StructField(\"durP2\", IntegerType()),\n",
    "    StructField(\"ratioP2\", DoubleType())\n",
    "])\n",
    "ppd42ns_df = sess.read.csv(\"./archive.luftdaten.info/**/*ppd42ns*.csv\", sep=\";\", header=True, schema=ppd42ns_schema) \\\n",
    "                 .withColumn(\"temperature\", expr(\"null\")) \\\n",
    "                 .withColumn(\"humidity\", expr(\"null\")) \\\n",
    "                 .withColumn(\"pressure\", expr(\"null\")) \\\n",
    "                 .withColumn(\"altitude\", expr(\"null\")) \\\n",
    "                 .withColumn(\"pressure_sealevel\", expr(\"null\"))\n",
    "ppd42ns_df = ppd42ns_df.select(all_cols)\n",
    "print(ppd42ns_df.count())"
   ]
  },
  {
   "cell_type": "code",
   "execution_count": 10,
   "metadata": {},
   "outputs": [
    {
     "name": "stdout",
     "output_type": "stream",
     "text": [
      "1682502\n"
     ]
    }
   ],
   "source": [
    "bmp180_schema =  StructType([\n",
    "    StructField(\"sensor_id\", IntegerType()),\n",
    "    StructField(\"sensor_type\", StringType()),\n",
    "    StructField(\"location\", IntegerType()),\n",
    "    StructField(\"lat\", DoubleType()),\n",
    "    StructField(\"lon\", DoubleType()),\n",
    "    StructField(\"timestamp\", TimestampType()),\n",
    "    StructField(\"pressure\", DoubleType()),\n",
    "    StructField(\"altitude\", DoubleType()),\n",
    "    StructField(\"pressure_sealevel\", DoubleType()),\n",
    "    StructField(\"temperature\", DoubleType())\n",
    "])\n",
    "bmp180_df = sess.read.csv(\"./archive.luftdaten.info/**/*bmp180*.csv\", sep=\";\", header=True, schema=bmp180_schema) \\\n",
    "                .withColumn(\"humidity\", expr(\"null\")) \\\n",
    "                .withColumn(\"P1\", expr(\"null\").cast(StringType())) \\\n",
    "                .withColumn(\"durP1\", expr(\"null\").cast(IntegerType())) \\\n",
    "                .withColumn(\"ratioP1\", expr(\"null\").cast(DoubleType())) \\\n",
    "                .withColumn(\"P2\", expr(\"null\").cast(StringType())) \\\n",
    "                .withColumn(\"durP2\", expr(\"null\").cast(IntegerType())) \\\n",
    "                .withColumn(\"ratioP2\", expr(\"null\").cast(DoubleType()))\n",
    "bmp180_df = bmp180_df.select(all_cols)\n",
    "print(bmp180_df.count())"
   ]
  },
  {
   "cell_type": "code",
   "execution_count": 11,
   "metadata": {},
   "outputs": [
    {
     "name": "stdout",
     "output_type": "stream",
     "text": [
      "30079901\n"
     ]
    }
   ],
   "source": [
    "bme280_schema =  StructType([\n",
    "    StructField(\"sensor_id\", IntegerType()),\n",
    "    StructField(\"sensor_type\", StringType()),\n",
    "    StructField(\"location\", IntegerType()),\n",
    "    StructField(\"lat\", DoubleType()),\n",
    "    StructField(\"lon\", DoubleType()),\n",
    "    StructField(\"timestamp\", TimestampType()),\n",
    "    StructField(\"pressure\", DoubleType()),\n",
    "    StructField(\"altitude\", DoubleType()),\n",
    "    StructField(\"pressure_sealevel\", DoubleType()),\n",
    "    StructField(\"temperature\", DoubleType()),\n",
    "    StructField(\"humidity\", DoubleType())\n",
    "])\n",
    "bme280_df = sess.read.csv(\"./archive.luftdaten.info/**/*bme280*.csv\", sep=\";\", header=True, schema=bme280_schema) \\\n",
    "                .withColumn(\"P1\", expr(\"null\").cast(StringType())) \\\n",
    "                .withColumn(\"durP1\", expr(\"null\").cast(IntegerType())) \\\n",
    "                .withColumn(\"ratioP1\", expr(\"null\").cast(DoubleType())) \\\n",
    "                .withColumn(\"P2\", expr(\"null\").cast(StringType())) \\\n",
    "                .withColumn(\"durP2\", expr(\"null\").cast(IntegerType())) \\\n",
    "                .withColumn(\"ratioP2\", expr(\"null\").cast(DoubleType()))\n",
    "bme280_df = bme280_df.select(all_cols)\n",
    "print(bme280_df.count())"
   ]
  },
  {
   "cell_type": "code",
   "execution_count": 12,
   "metadata": {},
   "outputs": [
    {
     "data": {
      "text/plain": [
       "646298786"
      ]
     },
     "execution_count": 12,
     "metadata": {},
     "output_type": "execute_result"
    }
   ],
   "source": [
    "all_df = dht22_df \\\n",
    "    .unionAll(sds011_df) \\\n",
    "    .unionAll(ppd42ns_df) \\\n",
    "    .unionAll(bmp180_df) \\\n",
    "    .unionAll(bme280_df)\n",
    "all_df.count()"
   ]
  },
  {
   "cell_type": "code",
   "execution_count": null,
   "metadata": {},
   "outputs": [],
   "source": [
    "all_df.where(\"sensor_id = 189\").orderBy(\"timestamp\").limit(20).toPandas()"
   ]
  },
  {
   "cell_type": "code",
   "execution_count": 13,
   "metadata": {},
   "outputs": [],
   "source": [
    "all_df \\\n",
    "    .repartition(57) \\\n",
    "    .write \\\n",
    "    .mode(\"overwrite\") \\\n",
    "    .parquet(\"luftdaten.info.%s.parquet\" % dt.date.today().strftime(\"%Y%m%d\"))"
   ]
  }
 ],
 "metadata": {
  "kernelspec": {
   "display_name": "Python 3",
   "language": "python",
   "name": "python3"
  },
  "language_info": {
   "codemirror_mode": {
    "name": "ipython",
    "version": 3
   },
   "file_extension": ".py",
   "mimetype": "text/x-python",
   "name": "python",
   "nbconvert_exporter": "python",
   "pygments_lexer": "ipython3",
   "version": "3.6.3"
  }
 },
 "nbformat": 4,
 "nbformat_minor": 2
}
